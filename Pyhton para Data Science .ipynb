{
 "cells": [
  {
   "cell_type": "markdown",
   "id": "739035eb",
   "metadata": {},
   "source": [
    "# Logica de progamação python\n"
   ]
  },
  {
   "cell_type": "code",
   "execution_count": 86,
   "id": "81a0ae71",
   "metadata": {},
   "outputs": [
    {
     "data": {
      "text/plain": [
       "2"
      ]
     },
     "execution_count": 86,
     "metadata": {},
     "output_type": "execute_result"
    }
   ],
   "source": [
    "1+1"
   ]
  },
  {
   "cell_type": "code",
   "execution_count": 87,
   "id": "62e9c552",
   "metadata": {},
   "outputs": [
    {
     "data": {
      "text/plain": [
       "'Vitor'"
      ]
     },
     "execution_count": 87,
     "metadata": {},
     "output_type": "execute_result"
    }
   ],
   "source": [
    "'Vitor'"
   ]
  },
  {
   "cell_type": "code",
   "execution_count": 88,
   "id": "4ccde1f1",
   "metadata": {},
   "outputs": [
    {
     "data": {
      "text/plain": [
       "'vitor'"
      ]
     },
     "execution_count": 88,
     "metadata": {},
     "output_type": "execute_result"
    }
   ],
   "source": [
    "\"vitor\""
   ]
  },
  {
   "cell_type": "code",
   "execution_count": 89,
   "id": "35791449",
   "metadata": {},
   "outputs": [
    {
     "data": {
      "text/plain": [
       "'vitor'"
      ]
     },
     "execution_count": 89,
     "metadata": {},
     "output_type": "execute_result"
    }
   ],
   "source": [
    "'vitor'"
   ]
  },
  {
   "cell_type": "code",
   "execution_count": 90,
   "id": "6a042cdd",
   "metadata": {},
   "outputs": [],
   "source": [
    "nome = 'vitor'"
   ]
  },
  {
   "cell_type": "code",
   "execution_count": 91,
   "id": "f6c8d563",
   "metadata": {},
   "outputs": [
    {
     "data": {
      "text/plain": [
       "18"
      ]
     },
     "execution_count": 91,
     "metadata": {},
     "output_type": "execute_result"
    }
   ],
   "source": [
    "idade = 18\n",
    "idade "
   ]
  },
  {
   "cell_type": "code",
   "execution_count": 92,
   "id": "f31cb2b3",
   "metadata": {},
   "outputs": [
    {
     "name": "stdout",
     "output_type": "stream",
     "text": [
      "O nome é vitor e sua idade é 18\n"
     ]
    }
   ],
   "source": [
    "print('O nome é {} e sua idade é {}'.format(nome, idade))"
   ]
  },
  {
   "cell_type": "code",
   "execution_count": 93,
   "id": "6389f36c",
   "metadata": {},
   "outputs": [
    {
     "name": "stdout",
     "output_type": "stream",
     "text": [
      "O nome é vitor e sua idade é 18\n"
     ]
    }
   ],
   "source": [
    "print(f'O nome é {nome} e sua idade é {idade}')"
   ]
  },
  {
   "cell_type": "markdown",
   "id": "59425a79",
   "metadata": {},
   "source": [
    "# Primeira função "
   ]
  },
  {
   "cell_type": "code",
   "execution_count": 94,
   "id": "ae251908",
   "metadata": {},
   "outputs": [],
   "source": [
    "def saudacao():\n",
    "    nome = input('Qual seu nome?')\n",
    "    print(f'Olá{nome} ')"
   ]
  },
  {
   "cell_type": "code",
   "execution_count": 95,
   "id": "ccfc1ac6",
   "metadata": {},
   "outputs": [
    {
     "name": "stdout",
     "output_type": "stream",
     "text": [
      "Qual seu nome?Vitor\n",
      "OláVitor \n"
     ]
    }
   ],
   "source": [
    "saudacao()"
   ]
  },
  {
   "cell_type": "markdown",
   "id": "2219347c",
   "metadata": {},
   "source": [
    "# Exercicio 1"
   ]
  },
  {
   "cell_type": "code",
   "execution_count": 96,
   "id": "aee2289a",
   "metadata": {},
   "outputs": [],
   "source": [
    "def nome_completo():\n",
    "    primeiro_nome = input('Qual seu primeiro nome ?')\n",
    "    sobrenome = input('Qual seu sobrenome ?')\n",
    "    \n",
    "    nome_inteiro = primeiro_nome +\" \" + sobrenome \n",
    "    \n",
    "    print(nome_inteiro)\n",
    "    "
   ]
  },
  {
   "cell_type": "code",
   "execution_count": 97,
   "id": "7d0f3e4a",
   "metadata": {},
   "outputs": [
    {
     "name": "stdout",
     "output_type": "stream",
     "text": [
      "Qual seu primeiro nome ?Vitor\n",
      "Qual seu sobrenome ?oliveir\n",
      "Vitor oliveir\n"
     ]
    }
   ],
   "source": [
    "nome_completo()"
   ]
  },
  {
   "cell_type": "markdown",
   "id": "dc69fad8",
   "metadata": {},
   "source": [
    "# Parametros ?"
   ]
  },
  {
   "cell_type": "code",
   "execution_count": 98,
   "id": "ce649d54",
   "metadata": {},
   "outputs": [],
   "source": [
    "nome = \"Luiza\""
   ]
  },
  {
   "cell_type": "code",
   "execution_count": 99,
   "id": "475a943f",
   "metadata": {},
   "outputs": [],
   "source": [
    "def saudacao(nome_da_pessoa):\n",
    "    print(f'ola {nome_da_pessoa}')\n",
    "    "
   ]
  },
  {
   "cell_type": "code",
   "execution_count": 100,
   "id": "40b947de",
   "metadata": {},
   "outputs": [
    {
     "name": "stdout",
     "output_type": "stream",
     "text": [
      "ola Luiza\n"
     ]
    }
   ],
   "source": [
    "saudacao(nome)"
   ]
  },
  {
   "cell_type": "markdown",
   "id": "0deacc0e",
   "metadata": {},
   "source": [
    "# Condicional"
   ]
  },
  {
   "cell_type": "code",
   "execution_count": 101,
   "id": "b0d05a42",
   "metadata": {},
   "outputs": [
    {
     "name": "stdout",
     "output_type": "stream",
     "text": [
      "tem permissão para dirigir\n"
     ]
    }
   ],
   "source": [
    "idade = 50\n",
    "\n",
    "def verifica_se_pode_dirigir(idade):\n",
    "    if idade >= 18:\n",
    "        print('tem permissão para dirigir')\n",
    "        \n",
    "    else:\n",
    "        print('Nao tem permissão para dirigir')\n",
    "    \n",
    "verifica_se_pode_dirigir(idade)"
   ]
  },
  {
   "cell_type": "markdown",
   "id": "1b3da2eb",
   "metadata": {},
   "source": [
    "# Convertendo para tipo inteiro"
   ]
  },
  {
   "cell_type": "code",
   "execution_count": 102,
   "id": "3003cdee",
   "metadata": {},
   "outputs": [
    {
     "name": "stdout",
     "output_type": "stream",
     "text": [
      "Qual sua idade? 77\n",
      "tem permissão para dirigir\n"
     ]
    }
   ],
   "source": [
    "def verifica_se_pode_dirigir_sem_parametros():\n",
    "    idade = input('Qual sua idade? ')\n",
    "    idade = int(idade) # Estava como palavra, reverteu para o tipo inteiro\n",
    "    if idade >= 18:\n",
    "        print('tem permissão para dirigir')\n",
    "        \n",
    "    else:\n",
    "        print('Nao tem permissão para dirigir')\n",
    "verifica_se_pode_dirigir_sem_parametros()   "
   ]
  },
  {
   "cell_type": "markdown",
   "id": "21dfd0b3",
   "metadata": {},
   "source": [
    "# Exercicio 2 \n",
    "\n",
    "Uma pessoa vai até a padaria todos os dias. A distância de sua casa até o estabelecimento é de 100 metros e todo percurso é feito em 20 segundos.\n",
    "\n",
    "Para calcular a velocidade média e descobrir a razão do espaço pelo tempo, podemos dividir o espaço percorrido pelo tempo.\n",
    "\n",
    "Sabendo disso, a pessoa deseja criar uma função chamada velocidade, que recebe 2 parâmetros chamados espaco e tempo, realizar o cálculo e exibir uma saída semelhante ao exemplo abaixo:\n"
   ]
  },
  {
   "cell_type": "code",
   "execution_count": 103,
   "id": "dcb81a29",
   "metadata": {},
   "outputs": [
    {
     "name": "stdout",
     "output_type": "stream",
     "text": [
      "Velocidade: 5.0 m/s\n"
     ]
    }
   ],
   "source": [
    "def velocidade(espaco, tempo):\n",
    "    v = espaco / tempo\n",
    "    print(f'Velocidade: {v} m/s')\n",
    "velocidade(100, 20)"
   ]
  },
  {
   "cell_type": "markdown",
   "id": "746abc87",
   "metadata": {},
   "source": [
    "# Exercicio 3 \n",
    "\n",
    "Uma pessoa criou a seguinte função para descobrir quantos anos faltam para tirar habilitação, caso não tenha a idade permitida. Caso tenha, uma mensagem informa que pode tirar habilitação:"
   ]
  },
  {
   "cell_type": "code",
   "execution_count": 104,
   "id": "5c464732",
   "metadata": {},
   "outputs": [
    {
     "name": "stdout",
     "output_type": "stream",
     "text": [
      "Qual sua idade? 88\n",
      "Pode tirar habilitação\n"
     ]
    }
   ],
   "source": [
    "def habilitacao():\n",
    " idade = input('Qual sua idade? ')\n",
    " idade = int(idade)\n",
    " if idade >= 18:\n",
    "   print('Pode tirar habilitação')\n",
    " else:\n",
    "   tempo = 18 - idade\n",
    "   print(f'Calma... espere {tempo} ano(s) para tirar habilitação')\n",
    "\n",
    "habilitacao()"
   ]
  },
  {
   "cell_type": "markdown",
   "id": "78395f3a",
   "metadata": {},
   "source": [
    "# <font color='red'>Listas"
   ]
  },
  {
   "cell_type": "code",
   "execution_count": 105,
   "id": "50c7be5b",
   "metadata": {},
   "outputs": [
    {
     "data": {
      "text/plain": [
       "int"
      ]
     },
     "execution_count": 105,
     "metadata": {},
     "output_type": "execute_result"
    }
   ],
   "source": [
    "idade = 18\n",
    "\n",
    "type(idade) # tipo"
   ]
  },
  {
   "cell_type": "code",
   "execution_count": 106,
   "id": "60af2372",
   "metadata": {},
   "outputs": [
    {
     "data": {
      "text/plain": [
       "str"
      ]
     },
     "execution_count": 106,
     "metadata": {},
     "output_type": "execute_result"
    }
   ],
   "source": [
    "nome = 'Vitor'\n",
    "type(nome)"
   ]
  },
  {
   "cell_type": "code",
   "execution_count": 107,
   "id": "16f8ab5c",
   "metadata": {},
   "outputs": [
    {
     "data": {
      "text/plain": [
       "list"
      ]
     },
     "execution_count": 107,
     "metadata": {},
     "output_type": "execute_result"
    }
   ],
   "source": [
    "lista = [18, 22, 33, 17]\n",
    "\n",
    "type(lista)"
   ]
  },
  {
   "cell_type": "code",
   "execution_count": 108,
   "id": "0fc1e4a8",
   "metadata": {},
   "outputs": [
    {
     "data": {
      "text/plain": [
       "33"
      ]
     },
     "execution_count": 108,
     "metadata": {},
     "output_type": "execute_result"
    }
   ],
   "source": [
    "lista[2]"
   ]
  },
  {
   "cell_type": "code",
   "execution_count": 109,
   "id": "de0db779",
   "metadata": {},
   "outputs": [
    {
     "data": {
      "text/plain": [
       "[18, 22]"
      ]
     },
     "execution_count": 109,
     "metadata": {},
     "output_type": "execute_result"
    }
   ],
   "source": [
    "lista[0:2] # Vai do 1 ate o 2 "
   ]
  },
  {
   "cell_type": "markdown",
   "id": "f3e814fa",
   "metadata": {},
   "source": [
    "# Laços e loops"
   ]
  },
  {
   "cell_type": "code",
   "execution_count": 110,
   "id": "c6bd2038",
   "metadata": {},
   "outputs": [
    {
     "name": "stdout",
     "output_type": "stream",
     "text": [
      "18 anos de idade,, tem permissão para dirigir\n",
      "22 anos de idade,, tem permissão para dirigir\n",
      "33 anos de idade,, tem permissão para dirigir\n",
      "17 anos de idade,, não tem permissão para dirigir\n"
     ]
    }
   ],
   "source": [
    "\n",
    "def verifica_se_pode_dirigir(idade):\n",
    "    if idade >= 18:\n",
    "        print(f'{idade} anos de idade,, tem permissão para dirigir')\n",
    "        \n",
    "    else:\n",
    "        print(f'{idade} anos de idade,, não tem permissão para dirigir')\n",
    "        \n",
    "#para cada idade dentro da na nossa lista   \n",
    "for idade in lista: # in é dentro for é para cada ou pra cada \n",
    "    verifica_se_pode_dirigir(idade)"
   ]
  },
  {
   "cell_type": "markdown",
   "id": "d2a790ad",
   "metadata": {},
   "source": [
    "# Boleano"
   ]
  },
  {
   "cell_type": "code",
   "execution_count": 111,
   "id": "a18280a3",
   "metadata": {},
   "outputs": [
    {
     "data": {
      "text/plain": [
       "False"
      ]
     },
     "execution_count": 111,
     "metadata": {},
     "output_type": "execute_result"
    }
   ],
   "source": [
    "idade = 15\n",
    "idade >= 18"
   ]
  },
  {
   "cell_type": "code",
   "execution_count": 112,
   "id": "2aa536f0",
   "metadata": {},
   "outputs": [],
   "source": [
    "permissoes = []\n",
    "idades = [20, 14, 40]\n",
    "\n",
    "def verifica_se_pode_dirigir(idades, permissoes):\n",
    "    for idade in idades:\n",
    "        if idade >= 18:\n",
    "            permissoes.append(True)\n",
    "        else:\n",
    "            permissoes.append(False)\n",
    "            \n",
    "verifica_se_pode_dirigir(idades, permissoes)\n"
   ]
  },
  {
   "cell_type": "code",
   "execution_count": 113,
   "id": "af8d231f",
   "metadata": {},
   "outputs": [
    {
     "data": {
      "text/plain": [
       "[True, False, True]"
      ]
     },
     "execution_count": 113,
     "metadata": {},
     "output_type": "execute_result"
    }
   ],
   "source": [
    "permissoes"
   ]
  },
  {
   "cell_type": "code",
   "execution_count": 114,
   "id": "7e25b0ae",
   "metadata": {},
   "outputs": [
    {
     "name": "stdout",
     "output_type": "stream",
     "text": [
      "Tem Permissao para dirigir\n",
      "Nao tem permissao para dirigir \n",
      "Tem Permissao para dirigir\n"
     ]
    }
   ],
   "source": [
    "for permissao in permissoes:\n",
    "    if permissao == True:\n",
    "        print('Tem Permissao para dirigir')\n",
    "    else:\n",
    "        print('Nao tem permissao para dirigir ')"
   ]
  },
  {
   "cell_type": "markdown",
   "id": "2cfb43eb",
   "metadata": {},
   "source": [
    "# Tipos em uma lista "
   ]
  },
  {
   "cell_type": "code",
   "execution_count": 115,
   "id": "dbc5925d",
   "metadata": {},
   "outputs": [
    {
     "name": "stdout",
     "output_type": "stream",
     "text": [
      "O elemento Guilerme é do tipo:  <class 'str'>\n",
      "O elemento 28 é do tipo:  <class 'int'>\n",
      "O elemento True é do tipo:  <class 'bool'>\n",
      "O elemento 18 é do tipo:  <class 'str'>\n"
     ]
    }
   ],
   "source": [
    "lista = ['Guilerme', 28, True, '18']\n",
    "\n",
    "for elemento in lista:\n",
    "    print(f'O elemento {elemento} é do tipo: ', type(elemento))"
   ]
  },
  {
   "cell_type": "markdown",
   "id": "7a8792ac",
   "metadata": {},
   "source": [
    "# Imports"
   ]
  },
  {
   "cell_type": "code",
   "execution_count": 116,
   "id": "fdde22fd",
   "metadata": {},
   "outputs": [],
   "source": [
    "from random  import randrange, seed # Numeros aleatorios "
   ]
  },
  {
   "cell_type": "code",
   "execution_count": 117,
   "id": "b4323b8a",
   "metadata": {},
   "outputs": [],
   "source": [
    "seed(10) # Valor inicial é o 10"
   ]
  },
  {
   "cell_type": "code",
   "execution_count": 118,
   "id": "03dbf965",
   "metadata": {},
   "outputs": [
    {
     "data": {
      "text/plain": [
       "9"
      ]
     },
     "execution_count": 118,
     "metadata": {},
     "output_type": "execute_result"
    }
   ],
   "source": [
    "randrange(0, 10)"
   ]
  },
  {
   "cell_type": "code",
   "execution_count": 119,
   "id": "2151cbd8",
   "metadata": {},
   "outputs": [
    {
     "data": {
      "text/plain": [
       "[0, 6, 7, 9, 0, 3, 7, 7]"
      ]
     },
     "execution_count": 119,
     "metadata": {},
     "output_type": "execute_result"
    }
   ],
   "source": [
    "notas_matematicas = []\n",
    "\n",
    "for notas in range(8): # Me trouxe 8 notas de matematicas \n",
    "    notas_matematicas.append(randrange(0,11))\n",
    "\n",
    "notas_matematicas"
   ]
  },
  {
   "cell_type": "code",
   "execution_count": 120,
   "id": "48d1d2fc",
   "metadata": {},
   "outputs": [
    {
     "data": {
      "text/html": [
       "<div>\n",
       "<style scoped>\n",
       "    .dataframe tbody tr th:only-of-type {\n",
       "        vertical-align: middle;\n",
       "    }\n",
       "\n",
       "    .dataframe tbody tr th {\n",
       "        vertical-align: top;\n",
       "    }\n",
       "\n",
       "    .dataframe thead th {\n",
       "        text-align: right;\n",
       "    }\n",
       "</style>\n",
       "<table border=\"1\" class=\"dataframe\">\n",
       "  <thead>\n",
       "    <tr style=\"text-align: right;\">\n",
       "      <th></th>\n",
       "      <th>0</th>\n",
       "    </tr>\n",
       "  </thead>\n",
       "  <tbody>\n",
       "    <tr>\n",
       "      <th>0</th>\n",
       "      <td>0</td>\n",
       "    </tr>\n",
       "    <tr>\n",
       "      <th>1</th>\n",
       "      <td>6</td>\n",
       "    </tr>\n",
       "    <tr>\n",
       "      <th>2</th>\n",
       "      <td>7</td>\n",
       "    </tr>\n",
       "    <tr>\n",
       "      <th>3</th>\n",
       "      <td>9</td>\n",
       "    </tr>\n",
       "    <tr>\n",
       "      <th>4</th>\n",
       "      <td>0</td>\n",
       "    </tr>\n",
       "  </tbody>\n",
       "</table>\n",
       "</div>"
      ],
      "text/plain": [
       "   0\n",
       "0  0\n",
       "1  6\n",
       "2  7\n",
       "3  9\n",
       "4  0"
      ]
     },
     "execution_count": 120,
     "metadata": {},
     "output_type": "execute_result"
    }
   ],
   "source": [
    "import pandas as pd \n",
    "\n",
    "notas = pd.DataFrame(notas_matematicas)\n",
    "notas.head()"
   ]
  },
  {
   "cell_type": "code",
   "execution_count": 121,
   "id": "7f7e81be",
   "metadata": {},
   "outputs": [
    {
     "data": {
      "image/png": "[encoded data removed]",
      "text/plain": [
       "<Figure size 432x288 with 1 Axes>"
      ]
     },
     "metadata": {
      "needs_background": "light"
     },
     "output_type": "display_data"
    }
   ],
   "source": [
    "%matplotlib inline \n",
    "import matplotlib.pyplot as plt \n",
    "x = list(range(1, 9)) # 1 ate o 9 são as 8 provas \n",
    "\n",
    "y = notas_matematicas\n",
    "# plot plotar\n",
    "plt.plot(x, y, marker='o')\n",
    "plt.title('Notas de Matematicas')\n",
    "plt.xlabel('provas')\n",
    "plt.ylabel('Notas')\n",
    "\n",
    "plt.show() # Pra tiar os texts"
   ]
  },
  {
   "cell_type": "markdown",
   "id": "1a7f374d",
   "metadata": {},
   "source": [
    "# Excercicio 4\n",
    "Para comparar o desempenho escolar de um determinado aluno, a escola decidiu criar um gráfico para cada matéria, como ilustra o código abaixo:\n",
    "\n"
   ]
  },
  {
   "cell_type": "code",
   "execution_count": 122,
   "id": "9f76b4a7",
   "metadata": {},
   "outputs": [
    {
     "data": {
      "image/png": "[encoded data removed]",
      "text/plain": [
       "<Figure size 432x288 with 1 Axes>"
      ]
     },
     "metadata": {
      "needs_background": "light"
     },
     "output_type": "display_data"
    },
    {
     "data": {
      "image/png": "[encoded data removed]",
      "text/plain": [
       "<Figure size 432x288 with 1 Axes>"
      ]
     },
     "metadata": {
      "needs_background": "light"
     },
     "output_type": "display_data"
    },
    {
     "data": {
      "image/png": "[encoded data removed]",
      "text/plain": [
       "<Figure size 432x288 with 1 Axes>"
      ]
     },
     "metadata": {
      "needs_background": "light"
     },
     "output_type": "display_data"
    }
   ],
   "source": [
    "import matplotlib.pyplot as plt\n",
    "\n",
    "notas_matematica = ['Matemática',8,7,6,6,7,7,8,10]\n",
    "notas_portugues = ['Português',9,9,9,8,5,6,8,5]\n",
    "notas_geografia = ['Geografia',10,10,6,7,7,7,8,7]\n",
    "\n",
    "notas = [notas_matematica, notas_portugues, notas_geografia]\n",
    "\n",
    "\n",
    "for nota in notas:\n",
    " x = list(range(1, 9))\n",
    " y = nota[1:] # Começa do 1\n",
    " plt.plot(x, y, marker='o')\n",
    " plt.xlabel('Provas')\n",
    " plt.ylabel('Notas')\n",
    " plt.title(nota[0])\n",
    " plt.show()"
   ]
  },
  {
   "cell_type": "code",
   "execution_count": null,
   "id": "8235ffaa",
   "metadata": {},
   "outputs": [],
   "source": []
  },
  {
   "cell_type": "code",
   "execution_count": null,
   "id": "1ad6ad15",
   "metadata": {},
   "outputs": [],
   "source": []
  },
  {
   "cell_type": "code",
   "execution_count": null,
   "id": "ac589a8d",
   "metadata": {},
   "outputs": [],
   "source": []
  },
  {
   "cell_type": "code",
   "execution_count": null,
   "id": "9327c265",
   "metadata": {},
   "outputs": [],
   "source": []
  },
  {
   "cell_type": "code",
   "execution_count": null,
   "id": "f55a4cb4",
   "metadata": {},
   "outputs": [],
   "source": []
  }
 ],
 "metadata": {
  "kernelspec": {
   "display_name": "Python 3 (ipykernel)",
   "language": "python",
   "name": "python3"
  },
  "language_info": {
   "codemirror_mode": {
    "name": "ipython",
    "version": 3
   },
   "file_extension": ".py",
   "mimetype": "text/x-python",
   "name": "python",
   "nbconvert_exporter": "python",
   "pygments_lexer": "ipython3",
   "version": "3.9.12"
  }
 },
 "nbformat": 4,
 "nbformat_minor": 5
}
